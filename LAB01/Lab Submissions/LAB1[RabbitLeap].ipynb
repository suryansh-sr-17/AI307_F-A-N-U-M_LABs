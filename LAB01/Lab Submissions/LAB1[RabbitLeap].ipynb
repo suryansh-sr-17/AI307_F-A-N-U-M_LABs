{
  "nbformat": 4,
  "nbformat_minor": 0,
  "metadata": {
    "colab": {
      "provenance": []
    },
    "kernelspec": {
      "name": "python3",
      "display_name": "Python 3"
    },
    "language_info": {
      "name": "python"
    }
  },
  "cells": [
    {
      "cell_type": "code",
      "execution_count": null,
      "metadata": {
        "colab": {
          "base_uri": "https://localhost:8080/"
        },
        "id": "xNxoadC3edKI",
        "outputId": "cf403644-0cf6-4283-8dd0-357eb8ab9d1b"
      },
      "outputs": [
        {
          "output_type": "stream",
          "name": "stdout",
          "text": [
            "Moves: [(3, 2), (2, 4), (4, 5), (5, 3), (3, 1), (1, 0), (0, 2), (2, 4), (4, 6), (6, 5), (5, 3), (3, 1), (1, 2), (2, 4), (4, 3)]\n"
          ]
        }
      ],
      "source": [
        "def solve_rabbit_leap(state):\n",
        "    goal = ['W', 'W', 'W', 'O', 'E', 'E', 'E']\n",
        "    visited = set()\n",
        "    queue = [(state, [])]\n",
        "\n",
        "    while queue:\n",
        "        current_state, moves = queue.pop(0)\n",
        "\n",
        "        if current_state == goal:\n",
        "            return moves\n",
        "\n",
        "        if tuple(current_state) in visited:\n",
        "            continue\n",
        "\n",
        "        visited.add(tuple(current_state))\n",
        "\n",
        "        empty_idx = current_state.index('O')\n",
        "\n",
        "        for i in [-2, -1, 1, 2]:\n",
        "            new_idx = empty_idx + i\n",
        "            if 0 <= new_idx < len(current_state):\n",
        "                new_state = current_state[:]\n",
        "                new_state[empty_idx], new_state[new_idx] = new_state[new_idx], new_state[empty_idx]\n",
        "                queue.append((new_state, moves + [(empty_idx, new_idx)]))\n",
        "\n",
        "    return None\n",
        "\n",
        "initial_state = ['E', 'E', 'E', 'O', 'W', 'W', 'W'] #sample input\n",
        "moves = solve_rabbit_leap(initial_state)\n",
        "print(\"Moves:\", moves)\n"
      ]
    }
  ]
}