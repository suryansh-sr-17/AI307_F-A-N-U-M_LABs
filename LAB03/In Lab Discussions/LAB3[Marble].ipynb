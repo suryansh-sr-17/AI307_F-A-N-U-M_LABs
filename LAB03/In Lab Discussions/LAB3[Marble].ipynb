{
  "nbformat": 4,
  "nbformat_minor": 0,
  "metadata": {
    "colab": {
      "provenance": []
    },
    "kernelspec": {
      "name": "python3",
      "display_name": "Python 3"
    },
    "language_info": {
      "name": "python"
    }
  },
  "cells": [
    {
      "cell_type": "code",
      "execution_count": null,
      "metadata": {
        "id": "ci4_VGrppLEE"
      },
      "outputs": [],
      "source": [
        "import heapq\n",
        "\n",
        "class State:\n",
        "    def __init__(self, board, path_cost, heuristic_cost):\n",
        "        self.board = board\n",
        "        self.path_cost = path_cost\n",
        "        self.heuristic_cost = heuristic_cost\n",
        "\n",
        "\n",
        "    def __lt__(self, other):\n",
        "        return (self.path_cost + self.heuristic_cost) < (other.path_cost + other.heuristic_cost)\n",
        "\n",
        "\n",
        "def initialize_board():\n",
        "    # define the initial board configuration here\n",
        "    return [\n",
        "        [0, 0, 1, 1, 1, 0, 0],\n",
        "        [0, 0, 1, 1, 1, 0, 0],\n",
        "        [1, 1, 1, 1, 1, 1, 1],\n",
        "        [1, 1, 1, 0, 1, 1, 1],\n",
        "        [1, 1, 1, 1, 1, 1, 1],\n",
        "        [0, 0, 1, 1, 1, 0, 0],\n",
        "        [0, 0, 1, 1, 1, 0, 0]\n",
        "    ]\n"
      ]
    },
    {
      "cell_type": "code",
      "source": [
        "\n",
        "def heuristic_remaining_marbles(board):\n",
        "    return sum(row.count(1) for row in board)\n",
        "\n",
        "# Heuristic 2: Distance to Center Heuristic\n",
        "def heuristic_distance_to_center(board):\n",
        "    center = (len(board) // 2, len(board[0]) // 2)\n",
        "    total_distance = 0\n",
        "    for i, row in enumerate(board):\n",
        "        for j, val in enumerate(row):\n",
        "            if val == 1:\n",
        "                total_distance += abs(i - center[0]) + abs(j - center[1])\n",
        "    return total_distance\n",
        "\n",
        "# Test\n",
        "initial_board = initialize_board()\n",
        "print(\"Remaining Marbles Heuristic:\", heuristic_remaining_marbles(initial_board))\n",
        "print(\"Distance to Center Heuristic:\", heuristic_distance_to_center(initial_board))\n"
      ],
      "metadata": {
        "colab": {
          "base_uri": "https://localhost:8080/"
        },
        "id": "5aOah8btpqr8",
        "outputId": "f866a561-5833-4524-8c31-1f234a834f64"
      },
      "execution_count": null,
      "outputs": [
        {
          "output_type": "stream",
          "name": "stdout",
          "text": [
            "Remaining Marbles Heuristic: 32\n",
            "Distance to Center Heuristic: 88\n"
          ]
        }
      ]
    },
    {
      "cell_type": "code",
      "source": [
        "\n",
        "def generate_moves(board):\n",
        "    return []\n",
        "\n",
        "next_moves = generate_moves(initial_board)\n",
        "print(\"Generated Moves:\", next_moves)\n"
      ],
      "metadata": {
        "colab": {
          "base_uri": "https://localhost:8080/"
        },
        "id": "a1dxN8kmp10u",
        "outputId": "c0437818-39e3-41d8-f9a6-b22b367e5256"
      },
      "execution_count": null,
      "outputs": [
        {
          "output_type": "stream",
          "name": "stdout",
          "text": [
            "Generated Moves: []\n"
          ]
        }
      ]
    },
    {
      "cell_type": "code",
      "source": [
        "\n",
        "def is_goal(board):\n",
        "    center = (len(board) // 2, len(board[0]) // 2)\n",
        "    return sum(row.count(1) for row in board) == 1 and board[center[0]][center[1]] == 1\n",
        "\n",
        "\n",
        "print(\"Is initial board goal?\", is_goal(initial_board))\n"
      ],
      "metadata": {
        "colab": {
          "base_uri": "https://localhost:8080/"
        },
        "id": "KNY8JvBDqKTQ",
        "outputId": "8370f8f8-b972-49e4-bc0e-47ad70960127"
      },
      "execution_count": null,
      "outputs": [
        {
          "output_type": "stream",
          "name": "stdout",
          "text": [
            "Is initial board goal? False\n"
          ]
        }
      ]
    },
    {
      "cell_type": "code",
      "source": [
        "# Best-First Search algorithm\n",
        "def best_first_search(initial_board):\n",
        "    pq = []\n",
        "    initial_state = State(initial_board, 0, heuristic_remaining_marbles(initial_board))\n",
        "    heapq.heappush(pq, initial_state)\n",
        "\n",
        "    visited = set()\n",
        "\n",
        "    while pq:\n",
        "        current_state = heapq.heappop(pq)\n",
        "        board = current_state.board\n",
        "\n",
        "        if is_goal(board):\n",
        "            return current_state.path_cost\n",
        "\n",
        "\n",
        "        for next_board, _ in generate_moves(board):\n",
        "            new_heuristic = heuristic_remaining_marbles(next_board)\n",
        "            new_state = State(next_board, 0, new_heuristic)\n",
        "\n",
        "            board_tuple = tuple(map(tuple, next_board))\n",
        "            if board_tuple not in visited:\n",
        "                visited.add(board_tuple)\n",
        "                heapq.heappush(pq, new_state)\n",
        "\n",
        "    return -1\n",
        "\n",
        "\n",
        "best_first_result = best_first_search(initial_board)\n",
        "print(\"Best-First Search Result:\", best_first_result)\n"
      ],
      "metadata": {
        "colab": {
          "base_uri": "https://localhost:8080/"
        },
        "id": "B3skIq7GqMDk",
        "outputId": "d192ea23-8f7d-4707-fec9-a9d2e4a2e408"
      },
      "execution_count": null,
      "outputs": [
        {
          "output_type": "stream",
          "name": "stdout",
          "text": [
            "Best-First Search Result: -1\n"
          ]
        }
      ]
    },
    {
      "cell_type": "code",
      "source": [
        "# A* Search algorithm\n",
        "def a_star_search(initial_board):\n",
        "    pq = []\n",
        "    initial_state = State(initial_board, 0, heuristic_remaining_marbles(initial_board))\n",
        "    heapq.heappush(pq, initial_state)\n",
        "\n",
        "    visited = set()\n",
        "\n",
        "    while pq:\n",
        "        current_state = heapq.heappop(pq)\n",
        "        board = current_state.board\n",
        "\n",
        "        if is_goal(board):\n",
        "            return current_state.path_cost\n",
        "\n",
        "\n",
        "        for next_board, move_cost in generate_moves(board):\n",
        "            new_path_cost = current_state.path_cost + move_cost\n",
        "            new_heuristic = heuristic_remaining_marbles(next_board)\n",
        "            new_state = State(next_board, new_path_cost, new_heuristic)\n",
        "\n",
        "            board_tuple = tuple(map(tuple, next_board))\n",
        "            if board_tuple not in visited:\n",
        "                visited.add(board_tuple)\n",
        "                heapq.heappush(pq, new_state)\n",
        "\n",
        "    return -1\n",
        "\n",
        "\n",
        "a_star_result = a_star_search(initial_board)\n",
        "print(\"A* Search Result:\", a_star_result)\n"
      ],
      "metadata": {
        "colab": {
          "base_uri": "https://localhost:8080/"
        },
        "id": "waVrrDdNqNsv",
        "outputId": "6f6547e0-fa24-4793-905c-c9f3c06f3694"
      },
      "execution_count": null,
      "outputs": [
        {
          "output_type": "stream",
          "name": "stdout",
          "text": [
            "A* Search Result: -1\n"
          ]
        }
      ]
    },
    {
      "cell_type": "code",
      "source": [
        "import time\n",
        "\n",
        "# Compare search algorithms\n",
        "def compare_algorithms(initial_board):\n",
        "    start_time = time.time()\n",
        "    bfs_result = best_first_search(initial_board)\n",
        "    bfs_time = time.time() - start_time\n",
        "    print(f\"Best-First Search Result: {bfs_result}, Time Taken: {bfs_time} seconds\")\n",
        "\n",
        "\n",
        "    start_time = time.time()\n",
        "    astar_result = a_star_search(initial_board)\n",
        "    astar_time = time.time() - start_time\n",
        "    print(f\"A* Search Result: {astar_result}, Time Taken: {astar_time} seconds\")\n",
        "\n",
        "\n",
        "compare_algorithms(initial_board)\n"
      ],
      "metadata": {
        "colab": {
          "base_uri": "https://localhost:8080/"
        },
        "id": "HEEWIUc2qPRs",
        "outputId": "8cdcc18f-893b-42d7-ddb7-075c72b52b68"
      },
      "execution_count": null,
      "outputs": [
        {
          "output_type": "stream",
          "name": "stdout",
          "text": [
            "Best-First Search Result: -1, Time Taken: 1.2159347534179688e-05 seconds\n",
            "A* Search Result: -1, Time Taken: 1.2636184692382812e-05 seconds\n"
          ]
        }
      ]
    }
  ]
}