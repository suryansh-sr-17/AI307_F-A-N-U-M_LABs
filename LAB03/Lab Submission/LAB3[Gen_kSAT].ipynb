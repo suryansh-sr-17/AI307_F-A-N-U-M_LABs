{
  "nbformat": 4,
  "nbformat_minor": 0,
  "metadata": {
    "colab": {
      "provenance": []
    },
    "kernelspec": {
      "name": "python3",
      "display_name": "Python 3"
    },
    "language_info": {
      "name": "python"
    }
  },
  "cells": [
    {
      "cell_type": "code",
      "execution_count": null,
      "metadata": {
        "colab": {
          "base_uri": "https://localhost:8080/",
          "height": 110
        },
        "id": "CqQZNaNFhWyy",
        "outputId": "0574a477-4707-4148-f580-a71f805f8e7d"
      },
      "outputs": [
        {
          "output_type": "error",
          "ename": "IndentationError",
          "evalue": "expected an indented block after 'for' statement on line 10 (<ipython-input-1-d8ba169ed1c8>, line 11)",
          "traceback": [
            "\u001b[0;36m  File \u001b[0;32m\"<ipython-input-1-d8ba169ed1c8>\"\u001b[0;36m, line \u001b[0;32m11\u001b[0m\n\u001b[0;31m    clause = set()\u001b[0m\n\u001b[0m    ^\u001b[0m\n\u001b[0;31mIndentationError\u001b[0m\u001b[0;31m:\u001b[0m expected an indented block after 'for' statement on line 10\n"
          ]
        }
      ],
      "source": [
        "# Experimnet 2 A(2)\n",
        "#  program to randomly generate k-SAT problems\n",
        "\n",
        "import random\n",
        "\n",
        "def generate_k_sat(k, m, n):\n",
        "    clauses = []\n",
        "    variables = list(range(1, n+1))\n",
        "    6\n",
        "    for _ in range(m):\n",
        "    clause = set()\n",
        "    while len(clause) < k:\n",
        "    variable = random.randint(1, n)\n",
        "    negated = random.choice([True, False])\n",
        "    if negated:\n",
        "    variable = -variable\n",
        "    clause.add(variable)\n",
        "    clauses.append(clause)\n",
        "    return clauses\n",
        "    def print_k_sat(clauses):\n",
        "    for i, clause in enumerate(clauses):\n",
        "    clause_str = \" v \".join(map(str, clause))\n",
        "    print(\"(\", clause_str, \")\", end=\"\")\n",
        "    if i < len(clauses) - 1:\n",
        "    print(\" ∧ \", end=\"\")\n",
        "    print(\"\\n\")\n",
        "    if __name__ == \"__main__\":\n",
        "    k = int(input(\"Enter k (length of each clause): \"))\n",
        "    m = int(input(\"Enter m (number of clauses): \"))\n",
        "    n = int(input(\"Enter n (number of variables): \"))\n",
        "    7\n",
        "    k_sat_problem = generate_k_sat(k, m, n)\n",
        "    print(\"\\nGenerated k-SAT problem:\")\n",
        "    print_k_sat(k_sat_problem)"
      ]
    },
    {
      "cell_type": "code",
      "source": [
        "# B\n",
        "# C++ program to randomly generate k-SAT problems\n",
        "\n",
        "\n",
        "include <bits/stdc++.h>\n",
        "using namespace std;\n",
        "\n",
        "vector< string > combs;\n",
        "\n",
        "void getCombination(vector<string> arr, int n, int r, int index, vector<string> data, int i) {\n",
        "    if (index == r)\n",
        "    {\n",
        "        string c = \"\";\n",
        "        for (int j = 0; j < r; j++)\n",
        "            c += data[j] + \"^\";\n",
        "        combs.push_back(c);\n",
        "        return;\n",
        "    }\n",
        "    if (i >= n)\n",
        "        return;\n",
        "\n",
        "    data[index] = arr[i];\n",
        "    getCombination(arr, n, r, index + 1, data, i + 1);\n",
        "    getCombination(arr, n, r, index, data, i+1);\n",
        "}\n",
        "\n",
        "void generateProblems(int k, int m, int n) {\n",
        "    vector<string> posVars;\n",
        "    char a = 'a';\n",
        "    for(int i=0; i<n; i++) {\n",
        "        string s;\n",
        "        s.insert(0, 1, a);\n",
        "        posVars.push_back(s);\n",
        "        a++;\n",
        "    }\n",
        "\n",
        "    vector<string> negVars;\n",
        "    for(int i=0; i<n; i++){\n",
        "        negVars.push_back(\"~\" + posVars[i]);\n",
        "    }\n",
        "\n",
        "    vector<string> totalVars = posVars;\n",
        "    totalVars.insert(totalVars.begin()+n, negVars.begin(), negVars.end());\n",
        "\n",
        "    vector<string> data(k);\n",
        "\n",
        "    getCombination(totalVars, n*2, k, 0, data, 0);\n",
        "\n",
        "    map<string, int> problems;\n",
        "    string problem;\n",
        "\n",
        "    for(int i=0; i<m; ) {\n",
        "        srand(time(0));\n",
        "        int pos = rand() % (n*2);\n",
        "        string p = combs[pos];\n",
        "        if (problems[p] == 0 ){\n",
        "            i++;\n",
        "            problems[p]++;\n",
        "        }\n",
        "    }\n",
        "\n",
        "    for(auto i=problems.begin(); i!=problems.end(); i++){\n",
        "        cout<<\" (\"<<(*i).first<<\") \";\n",
        "    }\n",
        "    cout<<endl;\n",
        "}\n",
        "\n",
        "int main() {\n",
        "    ios_base::sync_with_stdio(false), cin.tie(0), cout.tie(0);\n",
        "    int k, m, n;\n",
        "    cout<<\"Enter length of each clause:\\t\"<<flush;\n",
        "    cin >> k;\n",
        "    cout<<\"Enter number of clauses:\\t\"<<flush;\n",
        "    cin >> m;\n",
        "    cout<<\"Enter number of variables:\\t\"<<flush;\n",
        "    cin >> n;\n",
        "\n",
        "    generateProblems(k, m, n);\n",
        "    return 0;\n",
        "}\n"
      ],
      "metadata": {
        "id": "ngzo488Ejz8U"
      },
      "execution_count": null,
      "outputs": []
    }
  ]
}