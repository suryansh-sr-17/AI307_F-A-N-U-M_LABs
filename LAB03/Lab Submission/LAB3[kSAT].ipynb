{
  "nbformat": 4,
  "nbformat_minor": 0,
  "metadata": {
    "colab": {
      "provenance": []
    },
    "kernelspec": {
      "name": "python3",
      "display_name": "Python 3"
    },
    "language_info": {
      "name": "python"
    }
  },
  "cells": [
    {
      "cell_type": "code",
      "source": [
        "import random"
      ],
      "metadata": {
        "id": "eP6sZJPs89Ih"
      },
      "execution_count": null,
      "outputs": []
    },
    {
      "cell_type": "code",
      "source": [
        "def generate_k_sat(k, m, n):\n",
        "    clauses = []\n",
        "\n",
        "    for _ in range(m):\n",
        "        clause = set()\n",
        "        while len(clause) < k:\n",
        "            var = random.randint(1, n)\n",
        "            sign = random.choice([True, False])\n",
        "            literal = var if sign else -var\n",
        "            clause.add(literal)\n",
        "        clauses.append(list(clause))\n",
        "\n",
        "    return clauses\n",
        "\n",
        "k = 3  # Example values\n",
        "m = 5  # Example values\n",
        "n = 4  # Example values\n",
        "\n",
        "formula = generate_k_sat(k, m, n)\n",
        "for clause in formula:\n",
        "    print(clause)"
      ],
      "metadata": {
        "colab": {
          "base_uri": "https://localhost:8080/"
        },
        "id": "4Cp7RbhO8_WH",
        "outputId": "2cac7981-2c42-4fc6-aaf1-cdf48eb3bc0b"
      },
      "execution_count": null,
      "outputs": [
        {
          "output_type": "stream",
          "name": "stdout",
          "text": [
            "[-3, -1, -2]\n",
            "[2, 4, -3]\n",
            "[1, 2, -1]\n",
            "[1, 2, -3]\n",
            "[4, -3, -2]\n"
          ]
        }
      ]
    }
  ]
}