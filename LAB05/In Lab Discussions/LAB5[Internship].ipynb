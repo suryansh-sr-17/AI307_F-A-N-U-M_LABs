{
 "cells": [
  {
   "cell_type": "code",
   "execution_count": 77,
   "metadata": {},
   "outputs": [],
   "source": [
    "import pandas as pd\n",
    "from sklearn.model_selection import train_test_split\n",
    "from sklearn.naive_bayes import CategoricalNB\n",
    "from sklearn.metrics import accuracy_score\n",
    "import numpy as np\n",
    "from pgmpy.models import BayesianNetwork\n",
    "from pgmpy.estimators import MaximumLikelihoodEstimator, BayesianEstimator\n",
    "from pgmpy.inference import VariableElimination\n",
    "from random import shuffle"
   ]
  },
  {
   "cell_type": "code",
   "execution_count": 78,
   "metadata": {},
   "outputs": [],
   "source": [
    "data = pd.read_csv('2020_bn_nb_data.txt', delimiter='\\t')"
   ]
  },
  {
   "cell_type": "code",
   "execution_count": 79,
   "metadata": {},
   "outputs": [
    {
     "name": "stderr",
     "output_type": "stream",
     "text": [
      "C:\\Users\\Suryansh SR\\AppData\\Local\\Temp\\ipykernel_8316\\2099407248.py:3: FutureWarning: Downcasting behavior in `replace` is deprecated and will be removed in a future version. To retain the old behavior, explicitly call `result.infer_objects(copy=False)`. To opt-in to the future behavior, set `pd.set_option('future.no_silent_downcasting', True)`\n",
      "  data.replace(grade_mapping, inplace=True)\n"
     ]
    }
   ],
   "source": [
    "grade_mapping = { 'AA': 0, 'AB': 1, 'BB': 2, 'BC': 3, 'CC': 4, 'CD': 5, 'DD': 6, 'F': 7 }\n",
    "\n",
    "data.replace(grade_mapping, inplace=True)"
   ]
  },
  {
   "cell_type": "code",
   "execution_count": 80,
   "metadata": {},
   "outputs": [],
   "source": [
    "bayesian_model = BayesianNetwork([('EC100', 'PH100'), ('IT101', 'PH100'), ('MA101', 'PH100')])"
   ]
  },
  {
   "cell_type": "code",
   "execution_count": 81,
   "metadata": {},
   "outputs": [],
   "source": [
    "bayesian_model.fit(data, estimator=MaximumLikelihoodEstimator)"
   ]
  },
  {
   "cell_type": "code",
   "execution_count": 82,
   "metadata": {},
   "outputs": [],
   "source": [
    "inference = VariableElimination(bayesian_model)"
   ]
  },
  {
   "cell_type": "markdown",
   "metadata": {},
   "source": [
    "# Query : What grade will a student get in PH100 if he earns DD in EC100, CC in IT101 and CD in MA101."
   ]
  },
  {
   "cell_type": "code",
   "execution_count": 83,
   "metadata": {},
   "outputs": [
    {
     "name": "stderr",
     "output_type": "stream",
     "text": [
      "Finding Elimination Order: : : 0it [00:00, ?it/s]\n",
      "0it [00:00, ?it/s]"
     ]
    },
    {
     "name": "stdout",
     "output_type": "stream",
     "text": [
      "Predicted grade in PH100 :  BB\n"
     ]
    },
    {
     "name": "stderr",
     "output_type": "stream",
     "text": [
      "\n"
     ]
    }
   ],
   "source": [
    "reverse_grade_mapping = {v: k for k, v in grade_mapping.items()}\n",
    "\n",
    "query_result = inference.map_query(variables=['PH100'], evidence={'EC100': 6, 'IT101': 4, 'MA101': 5})\n",
    "predicted_PH100_grade = query_result['PH100']\n",
    "\n",
    "predicted_grade_label = reverse_grade_mapping[predicted_PH100_grade]\n",
    "\n",
    "print(\"Predicted grade in PH100 : \", predicted_grade_label)\n"
   ]
  },
  {
   "cell_type": "code",
   "execution_count": 84,
   "metadata": {},
   "outputs": [],
   "source": [
    "X = data.drop(columns=['QP'])\n",
    "y = data['QP'].apply(lambda x: 1 if x == 'y' else 0)"
   ]
  },
  {
   "cell_type": "code",
   "execution_count": 85,
   "metadata": {},
   "outputs": [],
   "source": [
    "def run_experiment(X, y):\n",
    "    accuracies = []\n",
    "\n",
    "    for i in range(20):  # 20 random experiments\n",
    "        \n",
    "        # Split data: 70% training, 30% testing\n",
    "        X_train, X_test, y_train, y_test = train_test_split(X, y, test_size=0.3, shuffle=True, random_state=i)\n",
    "        \n",
    "        # Convert X_train and X_test to numpy arrays (if they are DataFrames)\n",
    "        X_train = np.array(X_train)\n",
    "        X_test = np.array(X_test)\n",
    "        \n",
    "        # Initialize the Categorical Naive Bayes with Laplace smoothing (alpha=1 to handle unseen categories)\n",
    "        nb_model = CategoricalNB(alpha=1.0)\n",
    "        \n",
    "        # Train the Naive Bayes classifier\n",
    "        nb_model.fit(X_train, y_train)\n",
    "        \n",
    "        # Predict on the test set\n",
    "        y_pred = nb_model.predict(X_test)\n",
    "        \n",
    "        # Calculate accuracy\n",
    "        accuracy = accuracy_score(y_test, y_pred)\n",
    "        accuracies.append(accuracy)\n",
    "    \n",
    "    # Calculate mean and standard deviation\n",
    "    mean_accuracy = np.mean(accuracies)\n",
    "    std_accuracy = np.std(accuracies)\n",
    "\n",
    "    # Print results\n",
    "    print(f\"Naive Bayes Classifier Mean Accuracy over 20 runs: {mean_accuracy:.4f}\")\n",
    "    print(f\"Standard Deviation of Accuracy over 20 runs: {std_accuracy:.4f}\")"
   ]
  },
  {
   "cell_type": "code",
   "execution_count": 86,
   "metadata": {},
   "outputs": [
    {
     "name": "stdout",
     "output_type": "stream",
     "text": [
      "Naive Bayes Classifier Mean Accuracy over 20 runs: 0.9771\n",
      "Standard Deviation of Accuracy over 20 runs: 0.0154\n"
     ]
    }
   ],
   "source": [
    "run_experiment(X, y)"
   ]
  },
  {
   "cell_type": "code",
   "execution_count": 87,
   "metadata": {},
   "outputs": [],
   "source": [
    "dependent_model = BayesianNetwork([('EC100', 'QP'), ('IT101', 'QP'), ('MA101', 'QP')])\n",
    "dependent_model.fit(data, estimator=BayesianEstimator, prior_type=\"BDeu\")"
   ]
  }
 ],
 "metadata": {
  "kernelspec": {
   "display_name": "Python 3",
   "language": "python",
   "name": "python3"
  },
  "language_info": {
   "codemirror_mode": {
    "name": "ipython",
    "version": 3
   },
   "file_extension": ".py",
   "mimetype": "text/x-python",
   "name": "python",
   "nbconvert_exporter": "python",
   "pygments_lexer": "ipython3",
   "version": "3.12.2"
  }
 },
 "nbformat": 4,
 "nbformat_minor": 2
}
